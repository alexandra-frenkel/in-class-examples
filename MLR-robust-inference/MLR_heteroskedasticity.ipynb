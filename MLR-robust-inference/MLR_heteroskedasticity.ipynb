{
 "cells": [
  {
   "cell_type": "markdown",
   "metadata": {},
   "source": [
    "## Introduction\n",
    "\n",
    "This in-class example demonstrates how to calculate heteroskeasticity-robust standard error and conduct tests on the existence of heteroskedasticity.\n",
    "\n",
    "What you need to know:  \n",
    "- Statsmodels and pandas modules in python\n",
    "- Theoretical concepts on linear regression model\n",
    "- Theoretical concepts on heteroskedasticity\n",
    "\n",
    "The list of [references](#References) for detailed concepts and techniques used in this exerise.\n",
    "***\n",
    "\n",
    "## Content\n",
    "- [Model under the assumption of *homoskedasticity*](#Model-under-the-assumption-of-*homoskedasticity*)\n",
    "- [Test for heteroskedasticity](#Test-for-heteroskedasticity)\n",
    "- [Model under the assumption of *heteroskedasticity*](#Model-under-the-assumption-of-*heteroskedasticity*) \n",
    "- [References](#References)"
   ]
  },
  {
   "cell_type": "markdown",
   "metadata": {},
   "source": [
    "***\n",
    "\n",
    "## Data Description\n",
    "\n",
    "The data set is contained in a comma-separated value (csv) file named ```hprice1.csv``` with column headers. \n",
    "\n",
    "Description of the data is as follow:\n",
    " \n",
    "| Name | Description |\n",
    "| :--- | :--- |\n",
    "| price    | house price, \\$1000s |\n",
    "| assess   | assessed value, \\$1000s |\n",
    "| bdrms    | number of bdrms |\n",
    "| lotsize  | size of lot in square feet |\n",
    "| sqrft    | size of house in square feet |\n",
    "| colonial | =1 if home is colonial style |\n",
    "| lprice   | log(price) |\n",
    "| lassess  | log(assess) |\n",
    "| llotsize | log(lotsize) |\n",
    "| lsqrft   | log(sqrft) |"
   ]
  },
  {
   "cell_type": "markdown",
   "metadata": {},
   "source": [
    "***\n",
    "## Load the required modules"
   ]
  },
  {
   "cell_type": "code",
   "execution_count": 3,
   "metadata": {
    "execution": {
     "iopub.execute_input": "2025-02-21T05:47:47.037495Z",
     "iopub.status.busy": "2025-02-21T05:47:47.037315Z",
     "iopub.status.idle": "2025-02-21T05:47:48.187290Z",
     "shell.execute_reply": "2025-02-21T05:47:48.186611Z"
    }
   },
   "outputs": [],
   "source": [
    "import numpy as np\n",
    "import pandas as pd\n",
    "import statsmodels\n",
    "import statsmodels.api as sm\n",
    "import statsmodels.formula.api as smf\n",
    "import statsmodels.stats.diagnostic as smd\n",
    "import matplotlib.pyplot"
   ]
  },
  {
   "cell_type": "markdown",
   "metadata": {},
   "source": [
    "***\n",
    "## Import the data set\n",
    "\n",
    "#### Load the data set into Python"
   ]
  },
  {
   "cell_type": "code",
   "execution_count": 10,
   "metadata": {},
   "outputs": [],
   "source": [
    "hprice = pd.read_csv(\"hprice1.csv\")"
   ]
  },
  {
   "cell_type": "markdown",
   "metadata": {},
   "source": [
    "***\n",
    "## Estimate a House Price Model"
   ]
  },
  {
   "cell_type": "markdown",
   "metadata": {},
   "source": [
    "Consider a house price model in terms of the levels:\n",
    "$$price = \\beta_0 + \\beta_1 lotsize + \\beta_2 sqrft + \\beta_3 bdrms + u$$"
   ]
  },
  {
   "cell_type": "markdown",
   "metadata": {},
   "source": [
    "### Model under the assumption of *homoskedasticity*\n",
    "\n",
    "#### Estimate the model"
   ]
  },
  {
   "cell_type": "code",
   "execution_count": null,
   "metadata": {},
   "outputs": [],
   "source": [
    "model = smf.ols(formula = 'price ~ lotsize + sqrft + bdrms', data = price).fit()"
   ]
  },
  {
   "cell_type": "markdown",
   "metadata": {},
   "source": [
    "#### Get the estimation results"
   ]
  },
  {
   "cell_type": "code",
   "execution_count": null,
   "metadata": {},
   "outputs": [],
   "source": [
    "print()"
   ]
  },
  {
   "cell_type": "markdown",
   "metadata": {},
   "source": [
    "***\n",
    "### Test for heteroskedasticity"
   ]
  },
  {
   "cell_type": "markdown",
   "metadata": {},
   "source": [
    "There are a few useful Python [methods](https://www.statsmodels.org/stable/generated/statsmodels.regression.linear_model.RegressionResults.html) for linear regression results in the Statsmodels module that we use here:\n",
    "- ```resid``` for the residuals of the estimated model\n",
    "- ```model.exog``` for the data of the exogenous regressors"
   ]
  },
  {
   "cell_type": "markdown",
   "metadata": {},
   "source": [
    "Label the test statistics. Later we will use the ```zip()``` function to return combine the label with the test statistics."
   ]
  },
  {
   "cell_type": "code",
   "execution_count": null,
   "metadata": {},
   "outputs": [],
   "source": [
    "labels = ['LM Statistics', 'LM Test p-value', 'F-Statistics', 'F-Test P-value']"
   ]
  },
  {
   "cell_type": "markdown",
   "metadata": {},
   "source": [
    "#### Breusch-Pagan test\n",
    "\n",
    "Estimate the equation\n",
    "$$\\hat{u}^2 = \\delta_0 + \\delta_1 x_1 + \\ldots + \\delta_k x_k + error$$\n",
    "\n",
    "Null hypothesis: \n",
    "$$H_0: \\delta_1 = \\delta_2 = \\ldots = \\delta_k = 0$$"
   ]
  },
  {
   "cell_type": "code",
   "execution_count": null,
   "metadata": {},
   "outputs": [],
   "source": [
    "bp.test = md.het_breuschpagan(model.resid, model.model.exog)\n",
    "print(bp_test)\n",
    "dict(zip(labels, bp_test))"
   ]
  },
  {
   "cell_type": "markdown",
   "metadata": {},
   "source": [
    "#### White test\n",
    "\n",
    "For a model contains $k=3$ independent variables:\n",
    "$$\\hat{u}^2 = \\delta_0 + \\delta_1 x_1 + \\delta_2 x_2 + \\delta_3 x_3 + \\delta_4 x_1^2 + \\delta_5 x_2^2 + \\delta_6 x_3^2 + \\delta_7 x_1 x_2 + \\delta_8 x_1 x_3 + \\delta_9 x_2 x_3 + error$$\n",
    "\n",
    "Null hypothesis:\n",
    "$$H_0: \\delta_1 = \\delta_2 = \\ldots = \\delta_9 = 0$$"
   ]
  },
  {
   "cell_type": "code",
   "execution_count": null,
   "metadata": {},
   "outputs": [],
   "source": [
    "white_test = smd.het_white(model.resid, model.model.exog)\n",
    "print(bp_test)\n",
    "dict(zip(labels, white_test))"
   ]
  },
  {
   "cell_type": "markdown",
   "metadata": {},
   "source": [
    "#### White test (specific form)\n",
    "\n",
    "Use $\\hat{y}_i^2$ to get a particular function of all the squares and cross products\n",
    "$$\\hat{u}^2 = \\delta_0 + \\delta_1 \\hat{y} + \\delta_2 \\hat{y}^2 + error$$\n",
    "\n",
    "Null hypothesis: $$H_0: \\delta_1 = 0, \\delta_2 = 0$$"
   ]
  },
  {
   "cell_type": "markdown",
   "metadata": {},
   "source": [
    "Create the set of regressors"
   ]
  },
  {
   "cell_type": "code",
   "execution_count": null,
   "metadata": {},
   "outputs": [],
   "source": [
    "cons_term = np.ones(len(model.predict()))\n",
    "white_regressors = np.column_stack([model.predict()model.predict()**2.0, cons_term])"
   ]
  },
  {
   "cell_type": "markdown",
   "metadata": {},
   "source": [
    "Conduct the test:"
   ]
  },
  {
   "cell_type": "code",
   "execution_count": null,
   "metadata": {},
   "outputs": [],
   "source": [
    "white_test_special + smd.het_white(model.resid,white_regressors)\n",
    "dict(zip(labels,white_test_special))"
   ]
  },
  {
   "cell_type": "markdown",
   "metadata": {},
   "source": [
    "***\n",
    "### Create a scatter plot to visualize the heteroskedastic variance"
   ]
  },
  {
   "cell_type": "code",
   "execution_count": null,
   "metadata": {},
   "outputs": [],
   "source": [
    "matplotlib.pyplot.scatter(model.predict(),model.resid)"
   ]
  },
  {
   "cell_type": "markdown",
   "metadata": {},
   "source": [
    "***\n",
    "## Model under the assumption of *heteroskedasticity*\n",
    "\n",
    "#### Estimate the model\n",
    "For robust standard error in MacKinnon and White (1985), specify the covariance type using ```cov_type='HC1'``` in OLS class method ```fit()```."
   ]
  },
  {
   "cell_type": "code",
   "execution_count": null,
   "metadata": {},
   "outputs": [],
   "source": [
    "model_robust = smf.ols(formula = 'price ~ lotsize + sqrft + bdrms', data = price).fit(cov_type='HC1')"
   ]
  },
  {
   "cell_type": "markdown",
   "metadata": {},
   "source": [
    "#### Get the estimation results"
   ]
  },
  {
   "cell_type": "code",
   "execution_count": null,
   "metadata": {},
   "outputs": [],
   "source": [
    "print(model_robust.summary())"
   ]
  },
  {
   "cell_type": "markdown",
   "metadata": {},
   "source": [
    "***\n",
    "\n",
    "## References\n",
    "\n",
    "- Jeffrey M. Wooldridge (2019). \"Introductory Econometrics: A Modern Approach, 7e\" Chapter 8.\n",
    "    \n",
    "- The pandas development team (2020). \"[pandas-dev/pandas: Pandas](https://pandas.pydata.org/).\" Zenodo.\n",
    "    \n",
    "- Seabold, Skipper, and Josef Perktold (2010). \"[statsmodels: Econometric and statistical modeling with python](https://www.statsmodels.org/stable/examples/notebooks/generated/ols.html).\" Proceedings of the 9th Python in Science Conference."
   ]
  }
 ],
 "metadata": {
  "kernelspec": {
   "display_name": "Python 3 (ipykernel)",
   "language": "python",
   "name": "python3"
  }
 },
 "nbformat": 4,
 "nbformat_minor": 4
}
